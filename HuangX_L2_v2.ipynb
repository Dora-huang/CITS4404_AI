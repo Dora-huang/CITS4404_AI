{
 "cells": [
  {
   "cell_type": "markdown",
   "metadata": {},
   "source": [
    "# <center> Assignment2 </center><br>\n",
    "\n",
    "StudentID: 22670287 <br>\n",
    "StudentName: Xiaoyan Huang <br>\n",
    "**Note: These code used pygame package. My operating system is Windows10 and the environment is python3.**<br> \n",
    "This notebook composes with 2 classes and 2 functions. The class \"Particle\" uses for creating the single particle and the class \"Firework\" is applied to simulate the process of firework from upward to scattering. Function \"UpdateFirws\" is dedicated to updating the fireworks within a certain time. At last, using function \"Game\" initializes pygame and aggregates all functions."
   ]
  },
  {
   "cell_type": "code",
   "execution_count": 1,
   "metadata": {},
   "outputs": [
    {
     "name": "stdout",
     "output_type": "stream",
     "text": [
      "pygame 1.9.6\n",
      "Hello from the pygame community. https://www.pygame.org/contribute.html\n"
     ]
    }
   ],
   "source": [
    "import pygame\n",
    "from random import randint, uniform, random\n",
    "import math\n",
    "from time import time, sleep"
   ]
  },
  {
   "cell_type": "code",
   "execution_count": 2,
   "metadata": {},
   "outputs": [],
   "source": [
    "# This is a 2-Dimensional vector\n",
    "vector = pygame.math.Vector2\n",
    "gravity = vector(0, 0.3)\n",
    "# the window's width and height\n",
    "WIDTH = HEIGHT = 600"
   ]
  },
  {
   "cell_type": "code",
   "execution_count": 3,
   "metadata": {},
   "outputs": [],
   "source": [
    "class Particle:\n",
    "    '''\n",
    "    initial the single particle for fireworks\n",
    "    if firework status is 1 that means upward particle, otherwise scattered particles\n",
    "    '''\n",
    "    def __init__(self, x, y, status, colour):\n",
    "        self.status = status\n",
    "        self.ori_pos = vector(x, y) # original postition\n",
    "        self.pos = vector(x, y) # current postition\n",
    "        self.remove = False \n",
    "        self.explosion_radius = randint(7, 20)\n",
    "        self.life = 0\n",
    "        # upward\n",
    "        if self.status == 1:\n",
    "            self.vel = vector(0, -randint(15, 18))\n",
    "            self.size = 5\n",
    "            self.colour = colour\n",
    "        # scatter\n",
    "        else:\n",
    "            self.vel = vector(uniform(-1, 1), uniform(-1, 1))\n",
    "            self.vel.x *= randint(7, self.explosion_radius+1)\n",
    "            self.vel.y *= randint(7, self.explosion_radius+1)\n",
    "            self.size = 2\n",
    "            self.colour = colour\n",
    "\n",
    "    def move(self, force):\n",
    "        '''\n",
    "        reduce the stride and change particles position based on firework status\n",
    "        '''\n",
    "        if self.status == 0:\n",
    "            self.vel.x *= 0.8\n",
    "            self.vel.y *= 0.8\n",
    "\n",
    "        self.vel += force\n",
    "        self.pos += self.vel\n",
    "\n",
    "        self.decay()\n",
    "        self.life += 1\n",
    "\n",
    "    def decay(self):\n",
    "        '''\n",
    "        calculate the likelihood of dacay based on particles' life\n",
    "        '''\n",
    "        if 10 < self.life < 50:\n",
    "            dead = random()\n",
    "            if dead < 0.2:\n",
    "                self.remove = True\n",
    "        elif self.life > 50:\n",
    "            dead = random()\n",
    "            if dead > 0.5:\n",
    "                self.remove = True"
   ]
  },
  {
   "cell_type": "code",
   "execution_count": 4,
   "metadata": {},
   "outputs": [],
   "source": [
    "class Firework:\n",
    "\n",
    "    def __init__(self):\n",
    "        '''\n",
    "        initial the single upward particle and exploded status\n",
    "        '''\n",
    "        self.colour = (randint(0, 255), randint(0, 255), randint(0, 255))\n",
    "        self.particle = Particle(randint(0, WIDTH), HEIGHT, 1, self.colour)\n",
    "        self.exploded = False\n",
    "        self.particles = []\n",
    "\n",
    "    def update(self, win):\n",
    "        '''\n",
    "        if the status is not exploded, waiting for it to reach the top. Until it reaches the top point and then randomly \n",
    "        choose the number of particles, otherwise, the particle directly scatters based the velocity.\n",
    "        '''\n",
    "        if not self.exploded:\n",
    "            pygame.draw.circle(win, self.colour, (int(self.particle.pos.x), int(self.particle.pos.y)), \n",
    "                                self.particle.size)\n",
    "            self.particle.move(gravity)\n",
    "            # print(self.particle.pos, self.particle.vel)\n",
    "            # when upward particle reaches the top\n",
    "            if self.particle.vel.y >= 0:\n",
    "                self.exploded = True\n",
    "                amount = randint(100,200) # number of particles when scattering\n",
    "                for i in range(amount):\n",
    "                    self.particles.append(Particle(self.particle.pos.x, self.particle.pos.y, 0, self.colour))\n",
    "        else:\n",
    "            for ptl in self.particles:\n",
    "                ptl.move(vector(gravity.x + uniform(-1, 1) / 20, gravity.y + random()))\n",
    "                #print(ptl.pos, ptl.vel)\n",
    "                pygame.draw.circle(win, self.colour, (int(ptl.pos.x), int(ptl.pos.y)), \n",
    "                                ptl.size)\n",
    "        \n",
    "\n",
    "    def remove(self):\n",
    "        '''\n",
    "        remove the dead particles\n",
    "        and only when particles list is empty remove the whole firework\n",
    "        '''\n",
    "        if self.exploded:\n",
    "            for ptl in self.particles:\n",
    "                if ptl.remove is True:\n",
    "                    self.particles.remove(ptl)\n",
    "\n",
    "            if len(self.particles) == 0:\n",
    "                return True\n",
    "            else:\n",
    "                return False"
   ]
  },
  {
   "cell_type": "code",
   "execution_count": 5,
   "metadata": {},
   "outputs": [],
   "source": [
    "def UpdateFirws(win, fireworks):\n",
    "    for fw in fireworks:\n",
    "        fw.update(win)\n",
    "        if fw.remove() is True:\n",
    "            fireworks.remove(fw)\n",
    "            # print(\"remove fw sucessfully\")\n",
    "    pygame.display.update()"
   ]
  },
  {
   "cell_type": "code",
   "execution_count": 6,
   "metadata": {},
   "outputs": [],
   "source": [
    "def Game():\n",
    "    # create a dynamic fireworks list which can increase or delete elements during the loop\n",
    "    fireworks = [Firework() for i in range(3)]\n",
    "    # initial the game\n",
    "    pygame.init()\n",
    "    # the screen of game\n",
    "    win = pygame.display.set_mode((WIDTH, HEIGHT))\n",
    "    # set a clock\n",
    "    clock = pygame.time.Clock()\n",
    "\n",
    "    # starting the game\n",
    "    aa = True\n",
    "    while aa:\n",
    "        clock.tick(30)\n",
    "        win.fill(pygame.Color('black'))\n",
    "\n",
    "        for event in pygame.event.get():\n",
    "            if event.type == pygame.QUIT:\n",
    "                pygame.quit()\n",
    "                quit()\n",
    "\n",
    "        if random() < 0.05:\n",
    "            fireworks.append(Firework())\n",
    "        UpdateFirws(win, fireworks)\n",
    "    \n",
    "    pygame.quit()\n",
    "    quit()"
   ]
  },
  {
   "cell_type": "code",
   "execution_count": null,
   "metadata": {},
   "outputs": [],
   "source": [
    "Game()"
   ]
  }
 ],
 "metadata": {
  "kernelspec": {
   "display_name": "Python 3",
   "language": "python",
   "name": "python3"
  },
  "language_info": {
   "codemirror_mode": {
    "name": "ipython",
    "version": 3
   },
   "file_extension": ".py",
   "mimetype": "text/x-python",
   "name": "python",
   "nbconvert_exporter": "python",
   "pygments_lexer": "ipython3",
   "version": "3.7.7"
  }
 },
 "nbformat": 4,
 "nbformat_minor": 4
}
